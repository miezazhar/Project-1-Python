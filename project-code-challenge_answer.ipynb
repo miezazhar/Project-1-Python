{
 "cells": [
  {
   "cell_type": "markdown",
   "metadata": {},
   "source": [
    "<img src=\"http://imgur.com/1ZcRyrc.png\" style=\"float: left; margin: 20px; height: 55px\">\n",
    "\n",
    "# Project 1: Python Coding Exercises\n",
    "\n",
    "_Authors: Joseph Nelson (DC) _\n",
    "\n",
    "---"
   ]
  },
  {
   "cell_type": "markdown",
   "metadata": {},
   "source": [
    "The following code challenges are drawn from common exercises used in technical interviews.\n",
    "\n",
    "Please note that there may be several ways to approach each challenge. If you get stuck, try mapping out your approach in pseudocode first. Finally, while solutions to problems like these may be found online, remember that if you copy/paste code that you can't explain, you'll be missing out on the point of the project. The only way to truly learn a new skill is through practice, trial, and error - we can only help you improve by understanding where you are having trouble."
   ]
  },
  {
   "cell_type": "markdown",
   "metadata": {},
   "source": [
    "### Challenge 1: Largest Palindrome\n",
    "A palindromic number reads the same both ways. For example, 1234321 is a palindrome. The largest palindrome made from the product of two two-digit numbers is 9009 = 91 × 99. Find the largest palindrome made from the product of two three-digit numbers. Afterward, write a brief explanation walking through your code's logic in markdown."
   ]
  },
  {
   "cell_type": "code",
   "execution_count": 1,
   "metadata": {},
   "outputs": [
    {
     "name": "stdout",
     "output_type": "stream",
     "text": [
      "906609\n"
     ]
    }
   ],
   "source": [
    "# Create an empty list\n",
    "palindromes_list = []\n",
    "# Create three-digit list range from 100 to 1000 (start, end-1)\n",
    "for x in range(100,1000):  # #iterate the list from the range\n",
    "    for y in range(100,1000):\n",
    "        # The function takes this as integer so we need to convert it to string so that it can be manipulated\n",
    "        # Compares it to it's reverse using slice notation\n",
    "        # [::-1] is full range in step of negative 1 meaning returning us the reverse\n",
    "        # After that we compare it to our previous largest palindrome, storing the current value if it's greater, untill the loops reach the end of the range\n",
    "        if str(x*y)==str(x*y)[::-1]: #Check if the number is palindrome\n",
    "            # Append the last value x*y\n",
    "            palindromes_list.append(x*y)\n",
    "            \n",
    "# Display the largest palindrome\n",
    "print(max(palindromes_list))"
   ]
  },
  {
   "cell_type": "markdown",
   "metadata": {},
   "source": [
    "\n",
    "### Challenge 2: Summation of Primes\n",
    "The sum of the primes below 10 is 2 + 3 + 5 + 7 = 17. Find the sum of all the primes below 2,000. Afterward, write a brief explanation walking through your code's logic in markdown."
   ]
  },
  {
   "cell_type": "code",
   "execution_count": 2,
   "metadata": {},
   "outputs": [
    {
     "name": "stdout",
     "output_type": "stream",
     "text": [
      "277050\n"
     ]
    }
   ],
   "source": [
    "def Prime(num):\n",
    "    # Check if the number is less or equal to 1 it will return False because 1 is not prime number\n",
    "    if num <= 1 :\n",
    "        return False\n",
    "    # Loop through all n in the range\n",
    "    # Check if num is divisible by any other numbers apart from itself\n",
    "    # If num can only be divided by itself, return True\n",
    "    for i in range(2, num):\n",
    "        if num % i == 0:\n",
    "            return False\n",
    " \n",
    "    return True\n",
    " \n",
    "\n",
    "# Function to print the sum of primes number below 2000\n",
    "# If num can only be divided by itself, add num to sum up the total\n",
    "sum = 0  # Assign variable sum\n",
    "for i in range(2, 2000): # Iterate the range from 2 to 1999 because we want to find below 2000\n",
    "    if Prime(i): \n",
    "        sum = sum + i\n",
    "# Display the sum of all the primes number below 2000\n",
    "print (sum)"
   ]
  },
  {
   "cell_type": "markdown",
   "metadata": {},
   "source": [
    "### Challenge 3: Multiples of 3 and 5\n",
    "If we list all of the natural numbers below 10 that are multiples of 3 or 5, we get 3, 5, 6, and 9. The sum of these multiples is 23. Find the sum of all the multiples of 3 and 5 below 1,000. Afterward, write a brief explanation walking through your code's logic in markdown."
   ]
  },
  {
   "cell_type": "code",
   "execution_count": 3,
   "metadata": {},
   "outputs": [
    {
     "name": "stdout",
     "output_type": "stream",
     "text": [
      "233168\n"
     ]
    }
   ],
   "source": [
    "sum_of_multiples = 0   #Assign the variable of sum of multiples\n",
    "# Loop through all numbers in the range from 1 to 999 because we want below 1000\n",
    "for i in range(1, 1000):\n",
    "    # Check if divisible by 3 or 5 and within range\n",
    "    if (i % 3 == 0) or (i % 5 == 0):\n",
    "        # Add num to sum up the total\n",
    "        sum_of_multiples = sum_of_multiples + i\n",
    "#Display the sum of all the multiples of 3 and 5 below 1000\n",
    "print(sum_of_multiples)"
   ]
  },
  {
   "cell_type": "markdown",
   "metadata": {},
   "source": [
    "### Challenge 4: String Compressor\n",
    "Implement a method to perform basic string compression using the counts of repeated characters. (This is called run-length encoding.) For example, the string \"aabcccccaaa\" would become a2b1c5a3. If the “compressed” string would not become smaller than the original string, your method should return the original string. You can assume the string has only uppercase and lowercase letters (a–z). Specify whether your solution is case sensitive or case insensitive and what you would need to change to make it the other. Afterward, write a brief explanation walking through your code's logic in markdown."
   ]
  },
  {
   "cell_type": "code",
   "execution_count": 4,
   "metadata": {},
   "outputs": [
    {
     "name": "stdout",
     "output_type": "stream",
     "text": [
      "a2b1c5a3\n"
     ]
    }
   ],
   "source": [
    "def string_compressor(word):\n",
    "    # Setup a pointer at first character of string, initialise an empty string and assign a counter\n",
    "    compressed_word = \"\"\n",
    "    count_letter = \"\"\n",
    "    count = 0\n",
    "    \n",
    "    # Iterate through the string and check if character is equal to the first character of the string.\n",
    "    # If both are equal increment counter\n",
    "    # Else add the first character and it's count to result string\n",
    "    # If count is greater than 1 then only add count to the result string\n",
    "    # The first character will be the current character.\n",
    "    for letter in word:\n",
    "        if letter == count_letter:\n",
    "            count += 1\n",
    "        else:\n",
    "            if count > 0:\n",
    "                compressed_word += count_letter + str(count)\n",
    "            count_letter = letter\n",
    "            count = 1   # Reset the counter value to 1.\n",
    "    compressed_word += count_letter + str(count)\n",
    "    \n",
    "    if len(compressed_word) < len(word):   # Return the result of compressed string if it's length is less than the given string, else return the given string.\n",
    "        return compressed_word\n",
    "    else:\n",
    "        return word\n",
    "\n",
    "# Display the string compressor\n",
    "print(string_compressor('aabcccccaaa'))\n"
   ]
  },
  {
   "cell_type": "markdown",
   "metadata": {},
   "source": [
    "### *BONUS* Challenge: FizzBuzz\n",
    "Write a program that prints all of the numbers from 1 to 100. For multiples of 3, instead of the number, print \"Fizz;\" for multiples of 5, print \"Buzz.\" For numbers that are multiples of both 3 and 5, print \"FizzBuzz.\" Afterward, write a brief explanation walking through your code's logic in markdown."
   ]
  },
  {
   "cell_type": "code",
   "execution_count": 5,
   "metadata": {},
   "outputs": [
    {
     "name": "stdout",
     "output_type": "stream",
     "text": [
      "1\n",
      "2\n",
      "Fizz\n",
      "4\n",
      "Buzz\n",
      "Fizz\n",
      "7\n",
      "8\n",
      "Fizz\n",
      "Buzz\n",
      "11\n",
      "Fizz\n",
      "13\n",
      "14\n",
      "FizzBuzz\n",
      "16\n",
      "17\n",
      "Fizz\n",
      "19\n",
      "Buzz\n",
      "Fizz\n",
      "22\n",
      "23\n",
      "Fizz\n",
      "Buzz\n",
      "26\n",
      "Fizz\n",
      "28\n",
      "29\n",
      "FizzBuzz\n",
      "31\n",
      "32\n",
      "Fizz\n",
      "34\n",
      "Buzz\n",
      "Fizz\n",
      "37\n",
      "38\n",
      "Fizz\n",
      "Buzz\n",
      "41\n",
      "Fizz\n",
      "43\n",
      "44\n",
      "FizzBuzz\n",
      "46\n",
      "47\n",
      "Fizz\n",
      "49\n",
      "Buzz\n",
      "Fizz\n",
      "52\n",
      "53\n",
      "Fizz\n",
      "Buzz\n",
      "56\n",
      "Fizz\n",
      "58\n",
      "59\n",
      "FizzBuzz\n",
      "61\n",
      "62\n",
      "Fizz\n",
      "64\n",
      "Buzz\n",
      "Fizz\n",
      "67\n",
      "68\n",
      "Fizz\n",
      "Buzz\n",
      "71\n",
      "Fizz\n",
      "73\n",
      "74\n",
      "FizzBuzz\n",
      "76\n",
      "77\n",
      "Fizz\n",
      "79\n",
      "Buzz\n",
      "Fizz\n",
      "82\n",
      "83\n",
      "Fizz\n",
      "Buzz\n",
      "86\n",
      "Fizz\n",
      "88\n",
      "89\n",
      "FizzBuzz\n",
      "91\n",
      "92\n",
      "Fizz\n",
      "94\n",
      "Buzz\n",
      "Fizz\n",
      "97\n",
      "98\n",
      "Fizz\n",
      "Buzz\n"
     ]
    }
   ],
   "source": [
    "# Loop through range of numbers from 1 to 100\n",
    "for num in range(1,101):\n",
    "    # Check if num is divisible by both 3 and 5\n",
    "    # In conditional statements, put the multiple of of 5 and 3 because implementing this will check for the FizzBuzz case first\n",
    "    if num % 3 == 0 and num % 5 == 0:\n",
    "        print(\"FizzBuzz\") # Display FizzBuzz if the condition true\n",
    "    elif num % 5 == 0: # Check if num is divisible by 5\n",
    "        print(\"Buzz\")  # Display Buzz if the condition true\n",
    "    elif num % 3 == 0: # Check if num is divisible by 3\n",
    "        print(\"Fizz\")  # Display Fizz if the condition true\n",
    "    else:\n",
    "        print(num)  # If the condition did not fulfill any of the condition stated above it will display number\n"
   ]
  },
  {
   "cell_type": "code",
   "execution_count": null,
   "metadata": {},
   "outputs": [],
   "source": []
  }
 ],
 "metadata": {
  "anaconda-cloud": {},
  "kernelspec": {
   "display_name": "Python 3",
   "language": "python",
   "name": "python3"
  },
  "language_info": {
   "codemirror_mode": {
    "name": "ipython",
    "version": 3
   },
   "file_extension": ".py",
   "mimetype": "text/x-python",
   "name": "python",
   "nbconvert_exporter": "python",
   "pygments_lexer": "ipython3",
   "version": "3.8.8"
  }
 },
 "nbformat": 4,
 "nbformat_minor": 2
}
